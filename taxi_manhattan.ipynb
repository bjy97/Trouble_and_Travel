{
 "cells": [
  {
   "cell_type": "markdown",
   "metadata": {},
   "source": [
    "<h1> TAXI DATA COLUMBIA </h1>\n",
    "<h2> For this part, we look at taxi data going from columbia area to other places in 2015 </h2>"
   ]
  },
  {
   "cell_type": "code",
   "execution_count": 1,
   "metadata": {
    "collapsed": false
   },
   "outputs": [],
   "source": [
    "%matplotlib inline\n",
    "import os\n",
    "import seaborn as sns\n",
    "import numpy as np\n",
    "import pandas as pd\n",
    "from pandas import DataFrame\n",
    "from geopandas.tools import sjoin\n",
    "import matplotlib.pylab as plt\n",
    "import pysal as ps\n",
    "import geopandas as gpd\n",
    "from pandas.io.gbq import read_gbq\n",
    "import datetime as dt\n",
    "from mpl_toolkits.basemap import Basemap\n",
    "import matplotlib.cm\n",
    "from matplotlib.patches import Polygon\n",
    "from matplotlib.collections import PatchCollection\n",
    "from matplotlib.colors import Normalize"
   ]
  },
  {
   "cell_type": "code",
   "execution_count": 6,
   "metadata": {
    "collapsed": false
   },
   "outputs": [
    {
     "name": "stdout",
     "output_type": "stream",
     "text": [
      "Requesting query... ok.\n",
      "Query running...\n",
      "Query done.\n",
      "Cache hit.\n",
      "\n",
      "Retrieving results...\n",
      "  Got page: 1; 16% done. Elapsed 8.23 s.\n",
      "  Got page: 2; 32% done. Elapsed 14.68 s.\n",
      "  Got page: 3; 48% done. Elapsed 23.28 s.\n",
      "  Got page: 4; 64% done. Elapsed 40.59 s.\n",
      "  Got page: 5; 81% done. Elapsed 49.2 s.\n",
      "  Got page: 6; 97% done. Elapsed 60.02 s.\n",
      "  Got page: 7; 100% done. Elapsed 66.11 s.\n",
      "Got 114261 rows.\n",
      "\n",
      "Total time taken 72.84 s.\n",
      "Finished at 2017-04-25 16:06:07.\n"
     ]
    }
   ],
   "source": [
    "project = \"spheric-crow-161317\"\n",
    "cool_query = \"select * from `bigquery-public-data.new_york.tlc_yellow_trips_2015` where ( \\\n",
    "(pickup_latitude between 40.802708 and 40.812708) and \\\n",
    "(pickup_longitude between -73.967248 and -73.957248) and \\\n",
    "(dropoff_latitude between 40.700473 and 40.764400) and \\\n",
    "(dropoff_longitude between -74.024549 and -73.953507))\"\n",
    "\n",
    "taxi_going= read_gbq(query=cool_query, project_id=project, dialect='standard')"
   ]
  },
  {
   "cell_type": "code",
   "execution_count": 9,
   "metadata": {
    "collapsed": true
   },
   "outputs": [],
   "source": [
    "taxi_going['pickup_weekday'] = taxi_going.pickup_datetime.dt.weekday"
   ]
  },
  {
   "cell_type": "code",
   "execution_count": 14,
   "metadata": {
    "collapsed": true
   },
   "outputs": [],
   "source": [
    "taxi_going['pickup_hour'] = taxi_going.pickup_datetime.dt.hour\n"
   ]
  },
  {
   "cell_type": "code",
   "execution_count": 15,
   "metadata": {
    "collapsed": true
   },
   "outputs": [],
   "source": [
    "taxi_going.to_csv('taxi_going_columbus.csv')"
   ]
  },
  {
   "cell_type": "code",
   "execution_count": 2,
   "metadata": {
    "collapsed": true
   },
   "outputs": [],
   "source": [
    "#taxi_going_2015 is lower manhattan\n",
    "#start from here\n",
    "data = pd.read_csv('taxi_going_columbus.csv')"
   ]
  },
  {
   "cell_type": "code",
   "execution_count": 4,
   "metadata": {
    "collapsed": true
   },
   "outputs": [],
   "source": [
    "import gmplot\n",
    "drop_lon = list(data['dropoff_longitude'])\n",
    "drop_lat = list(data['dropoff_latitude'])\n",
    "gmap = gmplot.GoogleMapPlotter.from_geocode(\"Central Park\",12)\n",
    "gmap.heatmap(drop_lat, drop_lon)\n",
    "gmap.draw('columbus.html')\n"
   ]
  },
  {
   "cell_type": "markdown",
   "metadata": {},
   "source": [
    "<h2> Draw Heatmaps! </h2>\n",
    "<h3> By Area</h3>\n",
    "<li> Whole Manhattan </li>\n",
    "Unfortunately, there are so many data, so the pattern is not obvious. We see data aggregated on the broadway\n",
    "<li> Lower Manhattan (From Columbus circle and below) </li>\n",
    "<h3> By Time </h3>\n",
    "Ok, now we find lower Mahattan is worth looking at. We are interested in whether there is a difference respect to picking up time\n",
    "<h4>Time in a day </h4>\n",
    "<li>Morning</li>\n",
    "4am-12pm\n",
    "<li>Afternoon</li>\n",
    "12pm-6pm\n",
    "<li>Early Night</li>\n",
    "6pm-10pm\n",
    "<li>Late Night</li>\n",
    "10pm-4am\n",
    "<h4> Time in a week </h4>\n",
    "<li>Weekday</li>\n",
    "Monday to Thursday\n",
    "<li>Weekend</li>\n",
    "Friday to Sunday"
   ]
  },
  {
   "cell_type": "code",
   "execution_count": 4,
   "metadata": {
    "collapsed": false
   },
   "outputs": [],
   "source": [
    "weekday = data[data['pickup_weekday']<=3]\n",
    "weekend = data[data['pickup_weekday']> 3]"
   ]
  },
  {
   "cell_type": "code",
   "execution_count": 25,
   "metadata": {
    "collapsed": false
   },
   "outputs": [
    {
     "data": {
      "text/plain": [
       "114261"
      ]
     },
     "execution_count": 25,
     "metadata": {},
     "output_type": "execute_result"
    }
   ],
   "source": [
    "boolv = list()\n",
    "for hour in data['pickup_hour']:\n",
    "    if hour > 4 and hour<=12:\n",
    "        result = 0\n",
    "        boolv.append(result)\n",
    "    elif hour > 12 and hour <=18:\n",
    "        result = 1\n",
    "        boolv.append(result)\n",
    "    elif hour>18 and hour <=22:\n",
    "        result = 2\n",
    "        boolv.append(result)\n",
    "    else:\n",
    "        boolv.append(3)\n",
    "len(boolv)           "
   ]
  },
  {
   "cell_type": "code",
   "execution_count": 26,
   "metadata": {
    "collapsed": true
   },
   "outputs": [],
   "source": [
    "data['time_category'] = boolv"
   ]
  },
  {
   "cell_type": "code",
   "execution_count": 27,
   "metadata": {
    "collapsed": false
   },
   "outputs": [],
   "source": [
    "morning = data[data['time_category']==0]\n",
    "afternoon = data[data['time_category']==1]\n",
    "early_night = data[data['time_category']==2]\n",
    "late_night = data[data['time_category'] == 3]"
   ]
  },
  {
   "cell_type": "code",
   "execution_count": 3,
   "metadata": {
    "collapsed": true
   },
   "outputs": [],
   "source": [
    "def draw_heatmap(df,map_name):\n",
    "    import gmplot\n",
    "    drop_lon = list(df['dropoff_longitude'])\n",
    "    drop_lat = list(df['dropoff_latitude'])\n",
    "    gmap = gmplot.GoogleMapPlotter.from_geocode(\"Central Park\",12)\n",
    "    gmap.heatmap(drop_lat, drop_lon)\n",
    "    gmap.draw(map_name)\n"
   ]
  },
  {
   "cell_type": "code",
   "execution_count": 29,
   "metadata": {
    "collapsed": true
   },
   "outputs": [],
   "source": [
    "draw_heatmap(morning,'columbus_morning.html')\n",
    "draw_heatmap(afternoon,'columbus_afternoon.html')\n",
    "draw_heatmap(early_night,'columbus_early_night.html')\n",
    "draw_heatmap(late_night,'columbus_late_night.html')"
   ]
  },
  {
   "cell_type": "code",
   "execution_count": 8,
   "metadata": {
    "collapsed": false
   },
   "outputs": [],
   "source": [
    "draw_heatmap(weekday,'columbus_weekday.html')\n",
    "draw_heatmap(weekend,'columbus_weekend.html')"
   ]
  },
  {
   "cell_type": "code",
   "execution_count": 2,
   "metadata": {
    "collapsed": true
   },
   "outputs": [],
   "source": [
    "df = pd.read_csv('taxi_going_man.csv')"
   ]
  },
  {
   "cell_type": "code",
   "execution_count": 4,
   "metadata": {
    "collapsed": true
   },
   "outputs": [],
   "source": [
    "draw_heatmap(df,'manhattan.html')"
   ]
  },
  {
   "cell_type": "code",
   "execution_count": null,
   "metadata": {
    "collapsed": true
   },
   "outputs": [],
   "source": []
  }
 ],
 "metadata": {
  "anaconda-cloud": {},
  "kernelspec": {
   "display_name": "Python [conda root]",
   "language": "python",
   "name": "conda-root-py"
  },
  "language_info": {
   "codemirror_mode": {
    "name": "ipython",
    "version": 3
   },
   "file_extension": ".py",
   "mimetype": "text/x-python",
   "name": "python",
   "nbconvert_exporter": "python",
   "pygments_lexer": "ipython3",
   "version": "3.5.2"
  }
 },
 "nbformat": 4,
 "nbformat_minor": 1
}
